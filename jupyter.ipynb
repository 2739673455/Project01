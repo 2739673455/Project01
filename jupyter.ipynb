{
 "cells": [
  {
   "cell_type": "code",
   "execution_count": 1,
   "metadata": {},
   "outputs": [
    {
     "name": "stdout",
     "output_type": "stream",
     "text": [
      "<class 'pandas.core.frame.DataFrame'>\n",
      "Index: 5000 entries, 1 to 5000\n",
      "Data columns (total 15 columns):\n",
      " #   Column               Non-Null Count  Dtype  \n",
      "---  ------               --------------  -----  \n",
      " 0   Age                  5000 non-null   int64  \n",
      " 1   Gender               5000 non-null   object \n",
      " 2   Heart_Attack         5000 non-null   object \n",
      " 3   Blood_Pressure       5000 non-null   float64\n",
      " 4   Cholesterol          5000 non-null   float64\n",
      " 5   Diabetes             5000 non-null   object \n",
      " 6   Smoking              5000 non-null   object \n",
      " 7   Alcohol_Consumption  2501 non-null   object \n",
      " 8   Exercise_Level       5000 non-null   object \n",
      " 9   BMI                  5000 non-null   float64\n",
      " 10  Sleep_Hours          5000 non-null   float64\n",
      " 11  Hypertension         5000 non-null   object \n",
      " 12  Heart_Rate           5000 non-null   float64\n",
      " 13  Age_Group            5000 non-null   object \n",
      " 14  Screen_Time          5000 non-null   float64\n",
      "dtypes: float64(6), int64(1), object(8)\n",
      "memory usage: 625.0+ KB\n"
     ]
    }
   ],
   "source": [
    "import pandas as pd\n",
    "\n",
    "df = pd.read_csv(\"data/heart_attack.csv\", index_col=0)\n",
    "df.info()"
   ]
  }
 ],
 "metadata": {
  "kernelspec": {
   "display_name": "base",
   "language": "python",
   "name": "python3"
  },
  "language_info": {
   "codemirror_mode": {
    "name": "ipython",
    "version": 3
   },
   "file_extension": ".py",
   "mimetype": "text/x-python",
   "name": "python",
   "nbconvert_exporter": "python",
   "pygments_lexer": "ipython3",
   "version": "3.12.8"
  }
 },
 "nbformat": 4,
 "nbformat_minor": 2
}
