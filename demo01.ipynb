{
   "cells": [
      {
         "cell_type": "code",
         "execution_count": 60,
         "metadata": {},
         "outputs": [
            {
               "name": "stdout",
               "output_type": "stream",
               "text": [
                  "torch.Size([1, 2])\n",
                  "tensor([[[-0.1452,  0.1815,  0.1631,  ..., -0.3848,  0.0853,  0.1762],\n",
                  "         [-0.2401,  0.3554, -0.2260,  ...,  0.1055, -0.6106,  0.0722]]],\n",
                  "       grad_fn=<ViewBackward0>)\n"
               ]
            }
         ],
         "source": [
            "import torch\n",
            "import torch.nn as nn\n",
            "import jieba\n",
            "from torch.utils.data import DataLoader\n",
            "\n",
            "\n",
            "class Module(nn.Module):\n",
            "    def __init__(self, word_count):\n",
            "        super(Module, self).__init__()\n",
            "        self.embed = nn.Embedding(num_embeddings=word_count, embedding_dim=256)\n",
            "        self.rnn = nn.RNN(input_size=256, hidden_size=256, num_layers=1)\n",
            "        self.linear = nn.Linear(in_features=256, out_features=word_count)\n",
            "\n",
            "    def forward(self, input):\n",
            "        embed = self.embed(input)\n",
            "        output, hidden = self.rnn(embed)\n",
            "        output = self.linear(output)\n",
            "        return output\n",
            "\n",
            "\n",
            "model = Module(word_count=10000)\n",
            "input = torch.tensor([[1, 2]])\n",
            "print(input.shape)\n",
            "output = model(input)\n",
            "print(output)"
         ]
      }
   ],
   "metadata": {
      "kernelspec": {
         "display_name": "pytorch-2.6.0",
         "language": "python",
         "name": "python3"
      },
      "language_info": {
         "codemirror_mode": {
            "name": "ipython",
            "version": 3
         },
         "file_extension": ".py",
         "mimetype": "text/x-python",
         "name": "python",
         "nbconvert_exporter": "python",
         "pygments_lexer": "ipython3",
         "version": "3.12.8"
      }
   },
   "nbformat": 4,
   "nbformat_minor": 2
}
