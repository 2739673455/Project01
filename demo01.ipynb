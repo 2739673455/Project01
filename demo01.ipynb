{
 "cells": [
  {
   "cell_type": "code",
   "execution_count": null,
   "metadata": {},
   "outputs": [],
   "source": [
    "import torch\n",
    "import jieba\n",
    "\n",
    "text = \"刚出锅的馒头一块钱一个！\"\n",
    "words_list = jieba.lcut(text, cut_all=False)  # 返回一个列表\n",
    "vocab = list(set(words_list))  # 去重,构建词表\n",
    "vocab = [\"<PAD>\", \"<UNK>\", \"<SOS>\", \"<EOS>\"] + vocab  # 添加特殊符号\n",
    "word2idx = dict()  # 词到索引的映射，通常是字典\n",
    "idx2word = dict()  # 索引到词的映射，字典或列表都可以，这里也可以使用vocab代替\n",
    "\n",
    "# 生成一个n×n的单位矩阵\n",
    "one_hot = torch.eye(len(vocab))\n",
    "for idx, word in enumerate(vocab):\n",
    "    print(f\"词索引：{idx:2}，词：{word}，\\tone-hot：{one_hot[idx]}\")"
   ]
  }
 ],
 "metadata": {
  "kernelspec": {
   "display_name": "pytorch-2.6.0",
   "language": "python",
   "name": "python3"
  },
  "language_info": {
   "codemirror_mode": {
    "name": "ipython",
    "version": 3
   },
   "file_extension": ".py",
   "mimetype": "text/x-python",
   "name": "python",
   "nbconvert_exporter": "python",
   "pygments_lexer": "ipython3",
   "version": "3.12.8"
  }
 },
 "nbformat": 4,
 "nbformat_minor": 2
}
