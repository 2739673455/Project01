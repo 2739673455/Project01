{
   "cells": [
      {
         "cell_type": "code",
         "execution_count": null,
         "metadata": {},
         "outputs": [],
         "source": [
            "import torch\n",
            "import pandas as pd\n",
            "import torch.nn as nn\n",
            "from torch.utils.data import TensorDataset, DataLoader\n",
            "\n",
            "# 读取数据\n",
            "fashion_mnist_train = pd.read_csv(\"data/fashion-mnist_train.csv\")\n",
            "fashion_mnist_test = pd.read_csv(\"data/fashion-mnist_test.csv\")\n",
            "# 将数据转换为张量\n",
            "X_train = torch.tensor(fashion_mnist_train.iloc[:, 1:].values, dtype=torch.float32).reshape(-1, 1, 28, 28)\n",
            "y_train = torch.tensor(fashion_mnist_train.iloc[:, 0].values, dtype=torch.int64)\n",
            "X_test = torch.tensor(fashion_mnist_test.iloc[:, 1:].values, dtype=torch.float32).reshape(-1, 1, 28, 28)\n",
            "y_test = torch.tensor(fashion_mnist_test.iloc[:, 0].values, dtype=torch.int64)\n",
            "# 构建数据集\n",
            "train_dataset = TensorDataset(X_train, y_train)\n",
            "test_dataset = TensorDataset(X_test, y_test)"
         ]
      },
      {
         "cell_type": "code",
         "execution_count": null,
         "metadata": {},
         "outputs": [],
         "source": [
            "# 搭建模型\n",
            "net = nn.Sequential(\n",
            "    nn.Conv2d(1, 6, kernel_size=5, padding=2),\n",
            "    nn.Sigmoid(),\n",
            "    nn.AvgPool2d(kernel_size=2, stride=2),\n",
            "    nn.Conv2d(6, 16, kernel_size=5),\n",
            "    nn.Sigmoid(),\n",
            "    nn.AvgPool2d(kernel_size=2, stride=2),\n",
            "    nn.Flatten(),\n",
            "    nn.Linear(16 * 5 * 5, 120),\n",
            "    nn.Sigmoid(),\n",
            "    nn.Linear(120, 84),\n",
            "    nn.Sigmoid(),\n",
            "    nn.Linear(84, 10),\n",
            ")"
         ]
      },
      {
         "cell_type": "code",
         "execution_count": null,
         "metadata": {},
         "outputs": [],
         "source": [
            "# 模型训练\n",
            "def train(net, train_dataset, test_dataset, lr, epoch_num, batch_size, device):\n",
            "    def init_weights(layer):\n",
            "        if type(layer) == nn.Linear or type(layer) == nn.Conv2d:\n",
            "            nn.init.xavier_uniform_(layer.weight)\n",
            "\n",
            "    net.apply(init_weights)\n",
            "    net.to(device)\n",
            "    loss = nn.CrossEntropyLoss()\n",
            "    optimizer = torch.optim.SGD(net.parameters(), lr=lr)\n",
            "    for epoch in range(epoch_num):\n",
            "        net.train()\n",
            "        for X, y in DataLoader(train_dataset, batch_size, shuffle=True):\n",
            "            X, y = X.to(device), y.to(device)\n",
            "            y_pred = net(X)\n",
            "            loss_value = loss(y_pred, y)\n",
            "            loss_value.backward()\n",
            "            optimizer.step()\n",
            "            optimizer.zero_grad()\n",
            "        print(f\"epoch:{epoch} loss:{loss_value.item()}\")"
         ]
      },
      {
         "cell_type": "code",
         "execution_count": null,
         "metadata": {},
         "outputs": [],
         "source": [
            "device = torch.device(\"cuda\" if torch.cuda.is_available() else \"cpu\")\n",
            "train(net, train_dataset, test_dataset, lr=0.9, epoch_num=10, batch_size=128, device=\"cuda\")"
         ]
      }
   ],
   "metadata": {
      "kernelspec": {
         "display_name": "pytorch-2.6.0-gpu",
         "language": "python",
         "name": "python3"
      },
      "language_info": {
         "codemirror_mode": {
            "name": "ipython",
            "version": 3
         },
         "file_extension": ".py",
         "mimetype": "text/x-python",
         "name": "python",
         "nbconvert_exporter": "python",
         "pygments_lexer": "ipython3",
         "version": "3.12.8"
      }
   },
   "nbformat": 4,
   "nbformat_minor": 2
}
