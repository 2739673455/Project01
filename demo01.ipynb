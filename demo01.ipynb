{
 "cells": [
  {
   "cell_type": "code",
   "execution_count": null,
   "metadata": {},
   "outputs": [],
   "source": [
    "import torch\n",
    "\n",
    "rnn = torch.nn.RNN(input_size=2, hidden_size=3, num_layers=1)\n",
    "input = torch.rand(5, 4, 2)  # seq_len序列长度, batch_size批量大小, input_size\n",
    "hx = torch.randn(1, 4, 3)  # num_layers, batch_size, hidden_size\n",
    "\n",
    "# 一次性输入整个序列\n",
    "output1, hn = rnn(input=input, hx=hx)\n",
    "\n",
    "# 依次输入序列中的每一个时刻\n",
    "hn = hx\n",
    "output2 = torch.zeros(output1.shape)\n",
    "for i in range(input.shape[0]):\n",
    "    output2[i], hn = rnn(input=input[i, :, :].unsqueeze(0), hx=hn)\n",
    "\n",
    "# 比较输出结果\n",
    "print(output1 == output2)"
   ]
  }
 ],
 "metadata": {
  "kernelspec": {
   "display_name": "pytorch-2.6.0-gpu",
   "language": "python",
   "name": "python3"
  },
  "language_info": {
   "codemirror_mode": {
    "name": "ipython",
    "version": 3
   },
   "file_extension": ".py",
   "mimetype": "text/x-python",
   "name": "python",
   "nbconvert_exporter": "python",
   "pygments_lexer": "ipython3",
   "version": "3.12.8"
  }
 },
 "nbformat": 4,
 "nbformat_minor": 2
}
