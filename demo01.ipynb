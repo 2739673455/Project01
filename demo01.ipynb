{
 "cells": [
  {
   "cell_type": "code",
   "execution_count": null,
   "metadata": {},
   "outputs": [],
   "source": [
    "import torch\n",
    "\n",
    "gru = torch.nn.GRU(input_size=2, hidden_size=3, num_layers=1)\n",
    "input = torch.rand(2, 4, 2)  # seq_len序列长度, batch_size批量大小, input_size\n",
    "h0 = torch.randn(1, 4, 3)  # num_layers, batch_size, hidden_size\n",
    "output, hn = gru(input, h0)\n",
    "print(output)\n",
    "print(hn)"
   ]
  }
 ],
 "metadata": {
  "kernelspec": {
   "display_name": "pytorch-2.6.0-gpu",
   "language": "python",
   "name": "python3"
  },
  "language_info": {
   "codemirror_mode": {
    "name": "ipython",
    "version": 3
   },
   "file_extension": ".py",
   "mimetype": "text/x-python",
   "name": "python",
   "nbconvert_exporter": "python",
   "pygments_lexer": "ipython3",
   "version": "3.12.8"
  }
 },
 "nbformat": 4,
 "nbformat_minor": 2
}
