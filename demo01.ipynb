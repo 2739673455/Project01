{
 "cells": [
  {
   "cell_type": "code",
   "execution_count": null,
   "metadata": {},
   "outputs": [],
   "source": [
    "import torch\n",
    "import torch.nn as nn\n",
    "\n",
    "\n",
    "class Encoder(nn.Module):\n",
    "    def __init__(self, input_size, hidden_size):\n",
    "        super().__init__()\n",
    "        self.embedding = nn.Embedding(input_size, hidden_size)  # 词嵌入层\n",
    "        self.lstm = nn.LSTM(hidden_size, hidden_size)  # lstm层\n",
    "\n",
    "    def forward(self, input):\n",
    "        embedded = self.embedding(input).squeeze(1)\n",
    "        output, (hn, cn) = self.lstm(embedded)\n",
    "        return output, hn, cn\n",
    "\n",
    "\n",
    "class Decoder(nn.Module):\n",
    "    def __init__(self, output_size, hidden_size):\n",
    "        super().__init__()\n",
    "        self.embedding = nn.Embedding(output_size, hidden_size)  # 词嵌入层\n",
    "        self.lstm = nn.LSTM(hidden_size, hidden_size)  # lstm层\n",
    "        self.linear = nn.Linear(hidden_size, output_size)  # 全连接层\n",
    "\n",
    "    def forward(self, input, h0, c0):\n",
    "        embedded = self.embedding(input)\n",
    "        print(embedded.shape)\n",
    "        output, (hn, cn) = self.lstm(embedded, (h0, c0))\n",
    "        output = self.linear(output)\n",
    "        return output, hn, cn\n",
    "\n",
    "\n",
    "class Seq2Seq(nn.Module):\n",
    "    def __init__(self, encoder, decoder):\n",
    "        super().__init__()\n",
    "        self.encoder = encoder\n",
    "        self.decoder = decoder\n",
    "\n",
    "    def forward(self, src, trg, teacher_forcing_ratio=0.5):\n",
    "        batch_size = src.size(1)  # 批量大小\n",
    "        trg_len = trg.size(0)  # 目标序列长度\n",
    "        trg_vocab_size = self.decoder.linear.out_features  # 目标词表大小\n",
    "\n",
    "        outputs = torch.zeros(trg_len, batch_size, trg_vocab_size)  # 初始化输出\n",
    "        output, hidden, cell = self.encoder(src)  # 获取编码器输出\n",
    "        input = trg[0, :]  # 目标序列第一个词 <SOS>\n",
    "        for t in range(1, trg_len):\n",
    "            output, hidden, cell = self.decoder(input.unsqueeze(0), hidden, cell)  # 获取解码器输出\n",
    "            print(output)\n",
    "            outputs[:, t] = output.squeeze(1)  # 将解码器输出添加到输出中\n",
    "            # 教师强制是指在解码器训练时，使用真实目标序值作为输入\n",
    "            teacher_force = torch.rand(1).item() < teacher_forcing_ratio  # 随机使用教师强制\n",
    "            input = trg[t] if teacher_force else output.max(1)[1]  # 根据是否使用教师强制选择输入词\n",
    "        return outputs\n",
    "\n",
    "\n",
    "input_size, output_size, hidden_size = 5, 6, 256  # 假设词汇表大小\n",
    "encoder = Encoder(input_size, hidden_size)\n",
    "decoder = Decoder(output_size, hidden_size)\n",
    "model = Seq2Seq(encoder, decoder)\n",
    "\n",
    "src = torch.tensor([[0, 2, 3, 4, 1], [0, 2, 3, 4, 1]])\n",
    "trg = torch.tensor([[0, 2, 3, 4, 5, 1], [0, 2, 3, 4, 5, 1]])\n",
    "output = model(src, trg)"
   ]
  },
  {
   "cell_type": "code",
   "execution_count": null,
   "metadata": {},
   "outputs": [],
   "source": [
    "class Attention(nn.Module):\n",
    "    def __init__(self, hidden_size):\n",
    "        super().__init__()\n",
    "        self.attn = nn.Linear(hidden_size, hidden_size)"
   ]
  }
 ],
 "metadata": {
  "kernelspec": {
   "display_name": "pytorch-2.6.0-gpu",
   "language": "python",
   "name": "python3"
  },
  "language_info": {
   "codemirror_mode": {
    "name": "ipython",
    "version": 3
   },
   "file_extension": ".py",
   "mimetype": "text/x-python",
   "name": "python",
   "nbconvert_exporter": "python",
   "pygments_lexer": "ipython3",
   "version": "3.12.8"
  }
 },
 "nbformat": 4,
 "nbformat_minor": 2
}
