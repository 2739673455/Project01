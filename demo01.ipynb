{
 "cells": [
  {
   "cell_type": "code",
   "execution_count": null,
   "metadata": {},
   "outputs": [],
   "source": [
    "import pandas as pd\n",
    "\n",
    "# 加载数据集\n",
    "df = pd.read_csv(\"data/heart_disease.csv\")\n",
    "# 处理缺失值\n",
    "df.dropna()\n",
    "df.info()\n",
    "df.head()"
   ]
  },
  {
   "cell_type": "code",
   "execution_count": 29,
   "metadata": {},
   "outputs": [],
   "source": [
    "from sklearn.preprocessing import StandardScaler, OneHotEncoder\n",
    "from sklearn.compose import ColumnTransformer\n",
    "\n",
    "# 数值型特征\n",
    "numerical_features = [\"年龄\", \"静息血压\", \"胆固醇\", \"最大心率\", \"运动后的ST下降\", \"主血管数量\"]\n",
    "# 类别型特征\n",
    "categorical_features = [\"胸痛类型\", \"静息心电图结果\", \"峰值ST段的斜率\", \"地中海贫血\"]\n",
    "# 二元特征\n",
    "binary_features = [\"性别\", \"空腹血糖\", \"运动性心绞痛\"]\n",
    "# 创建列转换器\n",
    "preprocessor = ColumnTransformer(\n",
    "    transformers=[\n",
    "        # 对数值型特征进行标准化\n",
    "        (\"num\", StandardScaler(), numerical_features),\n",
    "        # 对类别型特征进行独热编码，使用drop=\"first\"避免多重共线性\n",
    "        (\"cat\", OneHotEncoder(drop=\"first\"), categorical_features),\n",
    "        # 二元特征不进行处理\n",
    "        (\"binary\", \"passthrough\", binary_features),\n",
    "    ]\n",
    ")\n",
    "# 划分特征和标签\n",
    "X = df.drop(\"是否患有心脏病\", axis=1)  # 特征\n",
    "y = df[\"是否患有心脏病\"]  # 标签\n",
    "# 执行特征转换\n",
    "X = preprocessor.fit_transform(X)"
   ]
  },
  {
   "cell_type": "code",
   "execution_count": 30,
   "metadata": {},
   "outputs": [],
   "source": [
    "from sklearn.model_selection import train_test_split\n",
    "\n",
    "# 将数据集按7:3划分为训练数据与测试数据\n",
    "x_train, x_test, y_train, y_test = train_test_split(X, y, test_size=0.3, random_state=100)"
   ]
  },
  {
   "cell_type": "code",
   "execution_count": null,
   "metadata": {},
   "outputs": [],
   "source": [
    "from sklearn.neighbors import KNeighborsClassifier\n",
    "from sklearn.model_selection import GridSearchCV\n",
    "\n",
    "knn = KNeighborsClassifier()\n",
    "# 网格搜索参数，K值设置为2到10\n",
    "param_grid = {\"n_neighbors\": list(range(1, 10))}\n",
    "# GridSearchCV(estimator=模型, param_grid=网格搜索参数, cv=k折交叉验证)\n",
    "knn = GridSearchCV(estimator=knn, param_grid=param_grid, cv=10)\n",
    "# 模型训练\n",
    "knn.fit(x_train, y_train)\n",
    "print(knn.best_estimator_)  # 最佳模型\n",
    "print(knn.best_score_)  # 最佳得分\n",
    "print(pd.DataFrame(knn.cv_results_))  # 所有交叉验证结果\n",
    "\n",
    "# 使用最佳模型进行评估\n",
    "knn = knn.best_estimator_\n",
    "print(knn.score(x_test, y_test))"
   ]
  }
 ],
 "metadata": {
  "kernelspec": {
   "display_name": "env1",
   "language": "python",
   "name": "python3"
  },
  "language_info": {
   "codemirror_mode": {
    "name": "ipython",
    "version": 3
   },
   "file_extension": ".py",
   "mimetype": "text/x-python",
   "name": "python",
   "nbconvert_exporter": "python",
   "pygments_lexer": "ipython3",
   "version": "3.12.8"
  }
 },
 "nbformat": 4,
 "nbformat_minor": 2
}
