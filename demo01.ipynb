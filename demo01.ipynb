{
 "cells": [
  {
   "cell_type": "code",
   "execution_count": null,
   "metadata": {},
   "outputs": [],
   "source": [
    "import torch\n",
    "import jieba\n",
    "\n",
    "text = \"刚出锅的馒头一块钱一个！\"\n",
    "words_list = jieba.lcut(text, cut_all=False)  # 返回一个列表\n",
    "vocab = list(set(words_list))  # 去重,构建词表\n",
    "word2idx = dict()  # 词到索引的映射，通常是字典\n",
    "idx2word = dict()  # 索引到词的映射，字典或列表都可以，这里也可以使用vocab代替\n",
    "for idx, word in enumerate(vocab):\n",
    "    word2idx[word] = idx\n",
    "    idx2word[idx] = word\n",
    "croups = [word2idx[word] for word in words_list]  # 语料索引化\n",
    "context = [[croups[i - 1], croups[i + 1]] for i in range(1, len(croups) - 1)]  # 上下文对\n",
    "target = [i for i in croups[1:-1]]  # 目标词\n",
    "context_one_hot = torch.zeros(len(context), 2, len(vocab))  # 上下文向量\n",
    "for i, (pre, next) in enumerate(context):\n",
    "    context_one_hot[i][0][pre] = 1\n",
    "    context_one_hot[i][1][next] = 1\n",
    "target_one_hot = torch.zeros(len(target), len(vocab))  # 目标词向量\n",
    "for i, word in enumerate(target):\n",
    "    target_one_hot[i][word] = 1\n",
    "w_in = torch.randn(7, 3)\n",
    "w_out = torch.randn(3, 7)\n",
    "print(context_one_hot[0])\n",
    "print(w_in)\n",
    "print(context_one_hot[0] @ w_in)\n",
    "print(context_one_hot[0] @ w_in @ w_out)"
   ]
  }
 ],
 "metadata": {
  "kernelspec": {
   "display_name": "pytorch-2.6.0-gpu",
   "language": "python",
   "name": "python3"
  },
  "language_info": {
   "codemirror_mode": {
    "name": "ipython",
    "version": 3
   },
   "file_extension": ".py",
   "mimetype": "text/x-python",
   "name": "python",
   "nbconvert_exporter": "python",
   "pygments_lexer": "ipython3",
   "version": "3.12.8"
  }
 },
 "nbformat": 4,
 "nbformat_minor": 2
}
