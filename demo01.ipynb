{
   "cells": [
      {
         "cell_type": "code",
         "execution_count": null,
         "metadata": {},
         "outputs": [],
         "source": [
            "import numpy as np\n",
            "import matplotlib.pyplot as plt\n",
            "from sklearn.decomposition import PCA\n",
            "from sklearn.preprocessing import StandardScaler\n",
            "\n",
            "n_samples = 100\n",
            "# 第1个主成分方向\n",
            "component1 = np.random.normal(0, 1, n_samples)\n",
            "# 第2个主成分方向\n",
            "component2 = np.random.normal(0, 0.5, n_samples)\n",
            "# 第3个方向（噪声，方差较小）\n",
            "noise = np.random.normal(0, 0.1, n_samples)\n",
            "# 构造3维数据\n",
            "X = np.vstack([component1 + component2, component1 - component2, component2 + noise]).T\n",
            "\n",
            "# 标准化\n",
            "scaler = StandardScaler()\n",
            "X_standardized = scaler.fit_transform(X)\n",
            "\n",
            "# 应用PCA，将3维数据降维到2维\n",
            "pca = PCA(n_components=2)\n",
            "X_pca = pca.fit_transform(X_standardized)\n",
            "\n",
            "# 4. 可视化\n",
            "# 转换前的3维数据可视化\n",
            "fig = plt.figure(figsize=(12, 4))\n",
            "\n",
            "ax1 = fig.add_subplot(121, projection=\"3d\")\n",
            "ax1.scatter(X[:, 0], X[:, 1], X[:, 2], c=\"b\", marker=\"o\")\n",
            "ax1.set_title(\"Before PCA (3D)\")\n",
            "ax1.set_xlabel(\"Feature 1\")\n",
            "ax1.set_ylabel(\"Feature 2\")\n",
            "ax1.set_zlabel(\"Feature 3\")\n",
            "\n",
            "# 转换后的2维数据可视化\n",
            "ax2 = fig.add_subplot(122)\n",
            "ax2.scatter(X_pca[:, 0], X_pca[:, 1], c=\"b\", marker=\"o\")\n",
            "ax2.set_title(\"After PCA (2D)\")\n",
            "ax2.set_xlabel(\"Principal Component 1\")\n",
            "ax2.set_ylabel(\"Principal Component 2\")\n",
            "\n",
            "plt.show()"
         ]
      }
   ],
   "metadata": {
      "kernelspec": {
         "display_name": "env1",
         "language": "python",
         "name": "python3"
      },
      "language_info": {
         "codemirror_mode": {
            "name": "ipython",
            "version": 3
         },
         "file_extension": ".py",
         "mimetype": "text/x-python",
         "name": "python",
         "nbconvert_exporter": "python",
         "pygments_lexer": "ipython3",
         "version": "3.12.8"
      }
   },
   "nbformat": 4,
   "nbformat_minor": 2
}
