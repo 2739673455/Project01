{
   "cells": [
      {
         "cell_type": "code",
         "execution_count": 113,
         "metadata": {},
         "outputs": [
            {
               "data": {
                  "text/plain": [
                     "0.8441558441558441"
                  ]
               },
               "execution_count": 113,
               "metadata": {},
               "output_type": "execute_result"
            }
         ],
         "source": [
            "import pandas as pd\n",
            "from sklearn.model_selection import train_test_split\n",
            "from sklearn.preprocessing import StandardScaler, OneHotEncoder\n",
            "from sklearn.compose import ColumnTransformer\n",
            "from sklearn.linear_model import LogisticRegression\n",
            "\n",
            "# 加载数据集\n",
            "heart_disease = pd.read_csv(\"data/heart_disease.csv\")\n",
            "heart_disease.dropna()\n",
            "\n",
            "# 划分为训练集与测试集\n",
            "X = heart_disease.drop(\"是否患有心脏病\", axis=1)  # 特征\n",
            "y = heart_disease[\"是否患有心脏病\"]  # 标签\n",
            "x_train, x_test, y_train, y_test = train_test_split(X, y, test_size=0.3, random_state=100)\n",
            "\n",
            "# 特征工程\n",
            "# 数值型特征\n",
            "numerical_features = [\"年龄\", \"静息血压\", \"胆固醇\", \"最大心率\", \"运动后的ST下降\", \"主血管数量\"]\n",
            "# 类别型特征\n",
            "categorical_features = [\"胸痛类型\", \"静息心电图结果\", \"峰值ST段的斜率\", \"地中海贫血\"]\n",
            "# 二元特征\n",
            "binary_features = [\"性别\", \"空腹血糖\", \"运动性心绞痛\"]\n",
            "# 创建列转换器\n",
            "preprocessor = ColumnTransformer(\n",
            "    transformers=[\n",
            "        # 对数值型特征进行标准化\n",
            "        (\"num\", StandardScaler(), numerical_features),\n",
            "        # 对类别型特征进行独热编码，使用drop=\"first\"避免多重共线性\n",
            "        (\"cat\", OneHotEncoder(drop=\"first\"), categorical_features),\n",
            "        # 二元特征不进行处理\n",
            "        (\"binary\", \"passthrough\", binary_features),\n",
            "    ]\n",
            ")\n",
            "# 执行特征转换\n",
            "x_train = preprocessor.fit_transform(x_train)  # 计算训练集的统计信息并进行转换\n",
            "x_test = preprocessor.transform(x_test)  # 使用训练集计算的信息对测试集进行转换\n",
            "\n",
            "# 模型训练\n",
            "model = LogisticRegression()\n",
            "model.fit(x_train, y_train)\n",
            "\n",
            "# 模型评估，计算准确率\n",
            "model.score(x_test, y_test)"
         ]
      }
   ],
   "metadata": {
      "kernelspec": {
         "display_name": "env1",
         "language": "python",
         "name": "python3"
      },
      "language_info": {
         "codemirror_mode": {
            "name": "ipython",
            "version": 3
         },
         "file_extension": ".py",
         "mimetype": "text/x-python",
         "name": "python",
         "nbconvert_exporter": "python",
         "pygments_lexer": "ipython3",
         "version": "3.12.8"
      }
   },
   "nbformat": 4,
   "nbformat_minor": 2
}