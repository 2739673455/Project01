{
   "cells": [
      {
         "cell_type": "code",
         "execution_count": null,
         "metadata": {},
         "outputs": [],
         "source": [
            "import torch\n",
            "import numpy as np\n",
            "import matplotlib.pyplot as plt\n",
            "\n",
            "# 从(-7, 2)出发\n",
            "X = torch.tensor([-7, 2], dtype=torch.float32, requires_grad=True)\n",
            "w = torch.tensor([[0.05], [1.0]], requires_grad=True)\n",
            "lr = 0.9  # 初始学习率\n",
            "n_iters = 1000  # 迭代次数\n",
            "\n",
            "optimizer = torch.optim.SGD([X], lr=lr)\n",
            "scheduler_lr = torch.optim.lr_scheduler.StepLR(optimizer, step_size=20, gamma=0.7)  # 学习率衰减\n",
            "X_arr = X.detach().numpy().copy()  # 拷贝，用于记录优化过程\n",
            "lr_list = []  # 记录学习率变化\n",
            "for epoch in range(n_iters):\n",
            "    y = X**2 @ w\n",
            "    y.backward()  # 反向传播\n",
            "    optimizer.step()  # 更新参数\n",
            "    optimizer.zero_grad()  # 清空梯度\n",
            "    X_arr = np.vstack([X_arr, X.detach().numpy()])  # 记录优化过程\n",
            "    lr_list.append(optimizer.param_groups[0][\"lr\"])  # 记录学习率变化\n",
            "    scheduler_lr.step()  # 学习率衰减\n",
            "\n",
            "plt.rcParams[\"font.sans-serif\"] = [\"KaiTi\"]\n",
            "plt.rcParams[\"axes.unicode_minus\"] = False\n",
            "fig, ax = plt.subplots(1, 2, figsize=(12, 4))\n",
            "x1_grid, x2_grid = np.meshgrid(np.linspace(-7, 7, 100), np.linspace(-2, 2, 100))\n",
            "y_grid = w.detach().numpy()[0, 0] * x1_grid**2 + w.detach().numpy()[1, 0] * x2_grid**2\n",
            "ax[0].contour(x1_grid, x2_grid, y_grid, levels=30, colors=\"gray\")\n",
            "ax[0].plot(X_arr[:, 0], X_arr[:, 1], \"r\")\n",
            "ax[0].set_title(\"梯度下降过程\")\n",
            "\n",
            "ax[1].plot(lr_list, \"k\")\n",
            "ax[1].set_title(\"学习率衰减\")\n",
            "plt.show()"
         ]
      }
   ],
   "metadata": {
      "kernelspec": {
         "display_name": "pytorch-2.6.0",
         "language": "python",
         "name": "python3"
      },
      "language_info": {
         "codemirror_mode": {
            "name": "ipython",
            "version": 3
         },
         "file_extension": ".py",
         "mimetype": "text/x-python",
         "name": "python",
         "nbconvert_exporter": "python",
         "pygments_lexer": "ipython3",
         "version": "3.12.8"
      }
   },
   "nbformat": 4,
   "nbformat_minor": 2
}
