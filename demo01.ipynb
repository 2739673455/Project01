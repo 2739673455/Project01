{
   "cells": [
      {
         "cell_type": "code",
         "execution_count": 347,
         "metadata": {},
         "outputs": [
            {
               "name": "stdout",
               "output_type": "stream",
               "text": [
                  "w的梯度:\n",
                  " tensor([[6.2015, 5.5452],\n",
                  "        [7.2051, 6.3962],\n",
                  "        [3.8426, 3.3324]])\n",
                  "b的梯度:\n",
                  " tensor([[5.1413, 7.0809],\n",
                  "        [4.6446, 6.1383]])\n"
               ]
            }
         ],
         "source": [
            "import torch\n",
            "\n",
            "# 输入x\n",
            "x = torch.rand(3, 2)\n",
            "# 目标值y\n",
            "y = torch.rand(2, 2)\n",
            "\n",
            "# 初始化权重w\n",
            "w = torch.normal(5, 3, (3, 2), requires_grad=True)\n",
            "# 初始化偏执b\n",
            "b = torch.normal(5, 3, (2, 2), requires_grad=True)\n",
            "z = w.T @ x + b\n",
            "# 设置损失函数\n",
            "loss = torch.nn.MSELoss()\n",
            "loss_value = loss(z, y)\n",
            "# 反向传播\n",
            "loss_value.backward()\n",
            "# 打印w,b的梯度\n",
            "print(\"w的梯度:\\n\", w.grad)\n",
            "print(\"b的梯度:\\n\", b.grad)"
         ]
      }
   ],
   "metadata": {
      "kernelspec": {
         "display_name": "pytorch-2.6.0-gpu",
         "language": "python",
         "name": "python3"
      },
      "language_info": {
         "codemirror_mode": {
            "name": "ipython",
            "version": 3
         },
         "file_extension": ".py",
         "mimetype": "text/x-python",
         "name": "python",
         "nbconvert_exporter": "python",
         "pygments_lexer": "ipython3",
         "version": "3.12.8"
      }
   },
   "nbformat": 4,
   "nbformat_minor": 2
}
