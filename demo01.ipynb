{
 "cells": [
  {
   "cell_type": "code",
   "execution_count": null,
   "metadata": {},
   "outputs": [],
   "source": [
    "import pandas as pd\n",
    "import matplotlib.pyplot as plt\n",
    "from sklearn.neighbors import KNeighborsClassifier\n",
    "from sklearn.model_selection import train_test_split\n",
    "\n",
    "# 加载数据集\n",
    "df = pd.read_csv(\"data/train.csv\")\n",
    "plt.imshow(df.iloc[10, 1:].values.reshape(28, 28), cmap=\"gray\")"
   ]
  },
  {
   "cell_type": "code",
   "execution_count": 15,
   "metadata": {},
   "outputs": [],
   "source": [
    "# 划分特征和标签\n",
    "X = df.drop(\"label\", axis=1)  # 特征\n",
    "y = df[\"label\"]  # 标签\n",
    "# 将数据集按7:3划分为训练数据与测试数据\n",
    "x_train, x_test, y_train, y_test = train_test_split(X, y, test_size=0.3, random_state=10)\n",
    "knn = KNeighborsClassifier(n_neighbors=5)\n",
    "# 模型训练\n",
    "knn.fit(x_train, y_train)\n",
    "# 模型评估，计算准确率\n",
    "knn.score(x_test, y_test)"
   ]
  },
  {
   "cell_type": "code",
   "execution_count": null,
   "metadata": {},
   "outputs": [],
   "source": [
    "import joblib\n",
    "\n",
    "joblib.dump(knn, \"knn_digit_recognizer\")"
   ]
  },
  {
   "cell_type": "code",
   "execution_count": null,
   "metadata": {},
   "outputs": [],
   "source": [
    "knn_loaded = joblib.load(\"knn_digit_recognizer\")\n",
    "plt.imshow(x_test.iloc[10].values.reshape(28, 28), cmap=\"gray\")\n",
    "knn.predict(x_test.iloc[10].values.reshape(1, -1))"
   ]
  }
 ],
 "metadata": {
  "kernelspec": {
   "display_name": "env1",
   "language": "python",
   "name": "python3"
  },
  "language_info": {
   "codemirror_mode": {
    "name": "ipython",
    "version": 3
   },
   "file_extension": ".py",
   "mimetype": "text/x-python",
   "name": "python",
   "nbconvert_exporter": "python",
   "pygments_lexer": "ipython3",
   "version": "3.12.8"
  }
 },
 "nbformat": 4,
 "nbformat_minor": 2
}
