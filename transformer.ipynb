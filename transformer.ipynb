{
 "cells": [
  {
   "cell_type": "code",
   "execution_count": 196,
   "metadata": {},
   "outputs": [],
   "source": [
    "import numpy as np\n",
    "import torch\n",
    "import torch.nn as nn\n",
    "import torch.nn.functional as F\n",
    "import math, copy, time\n",
    "import matplotlib.pyplot as plt\n",
    "import seaborn as sns\n",
    "\n",
    "sns.set_context(context=\"talk\")"
   ]
  },
  {
   "cell_type": "code",
   "execution_count": 197,
   "metadata": {},
   "outputs": [],
   "source": [
    "class Embeddings(nn.Module):\n",
    "    def __init__(self, d_model, vocab):\n",
    "        super().__init__()\n",
    "        self.lut = nn.Embedding(vocab, d_model)  # 定义嵌入层\n",
    "        self.d_model = d_model  # 定义嵌入层维度\n",
    "\n",
    "    def forward(self, x):\n",
    "        return self.lut(x) * math.sqrt(self.d_model)  # 嵌入并缩放"
   ]
  },
  {
   "cell_type": "code",
   "execution_count": 198,
   "metadata": {},
   "outputs": [],
   "source": [
    "class PositionalEncoding(nn.Module):\n",
    "\n",
    "    def __init__(self, d_model, dropout, max_len=5000):\n",
    "        super(PositionalEncoding, self).__init__()\n",
    "        self.dropout = nn.Dropout(p=dropout)  # 定义随机失活\n",
    "\n",
    "        # Compute the positional encodings once in log space.\n",
    "        pe = torch.zeros(max_len, d_model)  # 初始化位置编码张量\n",
    "        position = torch.arange(0, max_len).unsqueeze(1)  # 位置序号张量\n",
    "        div_term = torch.exp(torch.arange(0, d_model, 2) * -(math.log(10000.0) / d_model))  # 频率\n",
    "        pe[:, 0::2] = torch.sin(position * div_term)  # 偶数位置的位置编码\n",
    "        pe[:, 1::2] = torch.cos(position * div_term)  # 奇数位置的位置编码\n",
    "        pe = pe.unsqueeze(0)  # 在第0维增加一个维度\n",
    "        self.register_buffer(\n",
    "            \"pe\", pe\n",
    "        )  # 将位置编码张量pe注册为buffer，使其称为模型的一部分，模型保存时缓冲区中内容也会一起被保存起来\n",
    "\n",
    "    def forward(self, x):\n",
    "        x = x + self.pe[:, : x.size(1)].detach()  # 将位置编码张量与输入张量相加\n",
    "        return self.dropout(x)"
   ]
  },
  {
   "cell_type": "code",
   "execution_count": 199,
   "metadata": {},
   "outputs": [
    {
     "name": "stdout",
     "output_type": "stream",
     "text": [
      "tensor([[[ 11.2272, -13.6934, -16.0333,  ...,  30.8006,   0.9454,  -7.0989],\n",
      "         [  3.5160,  -6.1167,  15.4376,  ...,  14.4768,  -6.3042, -20.1314],\n",
      "         [  7.0921, -31.8241,   3.4255,  ...,   3.7689,  11.1341,  18.0814],\n",
      "         [ 11.3840, -15.9045,  -0.0000,  ...,  30.8006,   0.9457,  -7.0989]],\n",
      "\n",
      "        [[ 12.5045,  13.5130,  25.2645,  ..., -35.6063,  49.9737,  -7.7355],\n",
      "         [ 11.0413, -13.2639, -48.0724,  ...,   0.0000,  -0.0000, -10.1227],\n",
      "         [ 28.4697,  -0.0000, -12.4270,  ...,  19.4462,  44.1881, -12.1257],\n",
      "         [ -0.3193, -23.7343, -20.2613,  ...,   0.8307,  31.1339,   0.0000]]],\n",
      "       grad_fn=<MulBackward0>)\n",
      "torch.Size([2, 4, 512])\n"
     ]
    }
   ],
   "source": [
    "d_model = 512\n",
    "vocab = 10000\n",
    "embeddings = Embeddings(d_model, vocab)\n",
    "positional_encoding = PositionalEncoding(d_model, 0.1)\n",
    "x = torch.tensor([[1, 2, 3, 1], [6, 5, 89, 0]])\n",
    "x = embeddings(x)\n",
    "x = positional_encoding(x)\n",
    "print(x)\n",
    "print(x.shape)"
   ]
  }
 ],
 "metadata": {
  "kernelspec": {
   "display_name": "pytorch-2.6.0-gpu",
   "language": "python",
   "name": "python3"
  },
  "language_info": {
   "codemirror_mode": {
    "name": "ipython",
    "version": 3
   },
   "file_extension": ".py",
   "mimetype": "text/x-python",
   "name": "python",
   "nbconvert_exporter": "python",
   "pygments_lexer": "ipython3",
   "version": "3.12.8"
  }
 },
 "nbformat": 4,
 "nbformat_minor": 2
}
