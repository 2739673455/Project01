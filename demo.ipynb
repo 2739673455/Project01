{
 "cells": [
  {
   "cell_type": "code",
   "execution_count": 8,
   "metadata": {},
   "outputs": [
    {
     "name": "stdout",
     "output_type": "stream",
     "text": [
      "测试结果：\n",
      "样本数： 76358\n",
      "精确率： 0.38403310720553185\n",
      "召回率： 0.38403310720553185\n"
     ]
    }
   ],
   "source": [
    "import random\n",
    "import fasttext\n",
    "\n",
    "\n",
    "def train_test_split(source_path, train_path, test_path, train_ratio=0.8):\n",
    "    \"\"\"划分训练集和测试集\"\"\"\n",
    "    train_file = open(train_path, \"w\", encoding=\"utf-8\")\n",
    "    test_file = open(test_path, \"w\", encoding=\"utf-8\")\n",
    "    with open(source_path, \"r\", encoding=\"utf-8\") as f:\n",
    "        for line in f.readlines():\n",
    "            if random.random() > train_ratio:\n",
    "                test_file.write(line)\n",
    "            else:\n",
    "                train_file.write(line)\n",
    "    train_file.close()\n",
    "    test_file.close()\n",
    "\n",
    "\n",
    "# 划分训练集和测试集\n",
    "source_path = \"data/news_categorize.txt\"\n",
    "train_path = \"data/news_categorize_train.txt\"\n",
    "test_path = \"data/news_categorize_test.txt\"\n",
    "train_test_split(source_path, train_path, test_path, train_ratio=0.8)\n",
    "\n",
    "# 模型训练\n",
    "model = fasttext.train_supervised(train_path)\n",
    "\n",
    "# 模型保存与加载\n",
    "model.save_model(\"model.bin\")\n",
    "model_load = fasttext.load_model(\"model.bin\")\n",
    "\n",
    "# 模型评估\n",
    "test_result = model.test(test_path)\n",
    "print(\"测试结果：\")\n",
    "print(\"样本数：\", test_result[0])\n",
    "print(\"精确率：\", test_result[1])\n",
    "print(\"召回率：\", test_result[2])"
   ]
  },
  {
   "cell_type": "code",
   "execution_count": 13,
   "metadata": {},
   "outputs": [
    {
     "name": "stdout",
     "output_type": "stream",
     "text": [
      "测试结果：\n",
      "样本数： 76262\n",
      "精确率： 0.8640607379822192\n",
      "召回率： 0.8640607379822192\n"
     ]
    }
   ],
   "source": [
    "def train_test_split(source_path, train_path, test_path, train_ratio=0.8):\n",
    "    \"\"\"划分训练集和测试集\"\"\"\n",
    "    train_file = open(train_path, \"w\", encoding=\"utf-8\")\n",
    "    test_file = open(test_path, \"w\", encoding=\"utf-8\")\n",
    "    with open(source_path, \"r\", encoding=\"utf-8\") as f:\n",
    "        for line in f.readlines():\n",
    "            label, sentence = line.split(\" \", 1)\n",
    "            sentence = \" \".join(list(sentence))  # 将句子拆分为字\n",
    "            if random.random() > train_ratio:\n",
    "                test_file.write(label + \" \" + sentence)\n",
    "            else:\n",
    "                train_file.write(label + \" \" + sentence)\n",
    "    train_file.close()\n",
    "    test_file.close()\n",
    "\n",
    "\n",
    "# 划分训练集和测试集\n",
    "source_path = \"data/news_categorize.txt\"\n",
    "train_path = \"data/news_categorize_train.txt\"\n",
    "test_path = \"data/news_categorize_test.txt\"\n",
    "train_test_split(source_path, train_path, test_path, train_ratio=0.8)\n",
    "\n",
    "# 模型训练\n",
    "model = fasttext.train_supervised(\n",
    "    input=train_path,\n",
    "    epoch=10,  # 调整训练轮次\n",
    "    lr=0.2,  # 调整学习率\n",
    "    wordNgrams=2,  # 添加n-gram特征\n",
    "    loss=\"hs\",  # 使用层次softmax，提高训练效率\n",
    ")\n",
    "\n",
    "# 模型评估\n",
    "test_result = model.test(test_path)\n",
    "print(\"测试结果：\")\n",
    "print(\"样本数：\", test_result[0])\n",
    "print(\"精确率：\", test_result[1])\n",
    "print(\"召回率：\", test_result[2])"
   ]
  },
  {
   "cell_type": "code",
   "execution_count": 14,
   "metadata": {},
   "outputs": [
    {
     "name": "stdout",
     "output_type": "stream",
     "text": [
      "测试结果：\n",
      "样本数： 76262\n",
      "精确率： 0.8654637958616349\n",
      "召回率： 0.8654637958616349\n"
     ]
    }
   ],
   "source": [
    "# 模型训练\n",
    "model = fasttext.train_supervised(\n",
    "    input=train_path,\n",
    "    epoch=10,  # 调整训练轮次\n",
    "    lr=0.2,  # 调整学习率，如果学习率太高可能出现NaN\n",
    "    wordNgrams=2,  # 添加n-gram特征\n",
    "    loss=\"hs\",  # 使用层次softmax，提高训练效率\n",
    "    autotuneValidationFile=test_path,  # 使用验证集进行模型调优\n",
    "    autotuneDuration=300,  # 调优持续时间300秒\n",
    "    verbose=3,  # 显示详细日志\n",
    ")\n",
    "\n",
    "# 模型评估\n",
    "test_result = model.test(test_path)\n",
    "print(\"测试结果：\")\n",
    "print(\"样本数：\", test_result[0])\n",
    "print(\"精确率：\", test_result[1])\n",
    "print(\"召回率：\", test_result[2])"
   ]
  }
 ],
 "metadata": {
  "kernelspec": {
   "display_name": "pytorch-2.6.0-gpu",
   "language": "python",
   "name": "python3"
  },
  "language_info": {
   "codemirror_mode": {
    "name": "ipython",
    "version": 3
   },
   "file_extension": ".py",
   "mimetype": "text/x-python",
   "name": "python",
   "nbconvert_exporter": "python",
   "pygments_lexer": "ipython3",
   "version": "3.12.8"
  }
 },
 "nbformat": 4,
 "nbformat_minor": 2
}
