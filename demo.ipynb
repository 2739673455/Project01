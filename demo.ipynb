{
 "cells": [
  {
   "cell_type": "code",
   "execution_count": null,
   "metadata": {},
   "outputs": [],
   "source": [
    "import torch\n",
    "from transformers import AutoTokenizer, AutoModelForCausalLM\n",
    "\n",
    "# 加载分词器\n",
    "text = \"1950年\"\n",
    "tokenizer = AutoTokenizer.from_pretrained(\"gpt2-chinese-cluecorpussmall\")\n",
    "inputs = tokenizer(text, return_tensors=\"pt\")\n",
    "\n",
    "# 加载模型\n",
    "model = AutoModelForCausalLM.from_pretrained(\"gpt2-chinese-cluecorpussmall\")\n",
    "model.eval()\n",
    "with torch.no_grad():\n",
    "    pt_outputs = model.generate(\n",
    "        inputs.input_ids,\n",
    "        max_length=512,\n",
    "        no_repeat_ngram_size=2,  # 防止重复n-gram\n",
    "        temperature=0.9,  # 控制随机性（0-1，越大越随机）\n",
    "        top_k=50,  # 最高k采样\n",
    "        eos_token_id=tokenizer.eos_token_id,  # 设置结束符\n",
    "    )\n",
    "res = tokenizer.decode(pt_outputs[0], skip_special_tokens=True)\n",
    "print(res.replace(\" \", \"\"))"
   ]
  }
 ],
 "metadata": {
  "kernelspec": {
   "display_name": "pytorch-2.6.0",
   "language": "python",
   "name": "python3"
  },
  "language_info": {
   "codemirror_mode": {
    "name": "ipython",
    "version": 3
   },
   "file_extension": ".py",
   "mimetype": "text/x-python",
   "name": "python",
   "nbconvert_exporter": "python",
   "pygments_lexer": "ipython3",
   "version": "3.12.8"
  }
 },
 "nbformat": 4,
 "nbformat_minor": 2
}
