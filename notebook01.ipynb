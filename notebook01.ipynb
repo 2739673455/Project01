{
 "cells": [
  {
   "cell_type": "code",
   "execution_count": null,
   "id": "4c6d35486e6c08b7",
   "metadata": {
    "ExecuteTime": {
     "end_time": "2025-01-13T06:37:29.536917Z",
     "start_time": "2025-01-13T06:37:29.055826Z"
    }
   },
   "outputs": [],
   "source": [
    "import pandas as pd\n",
    "import seaborn as sns\n",
    "import matplotlib.pyplot as plt\n",
    "\n",
    "plt.rcParams[\"font.sans-serif\"] = [\"SimHei\"]\n",
    "df = pd.read_csv(\"data/tips.csv\")\n",
    "df.info()"
   ]
  }
 ],
 "metadata": {
  "kernelspec": {
   "display_name": "env1",
   "language": "python",
   "name": "python3"
  },
  "language_info": {
   "codemirror_mode": {
    "name": "ipython",
    "version": 3
   },
   "file_extension": ".py",
   "mimetype": "text/x-python",
   "name": "python",
   "nbconvert_exporter": "python",
   "pygments_lexer": "ipython3",
   "version": "3.12.8"
  }
 },
 "nbformat": 4,
 "nbformat_minor": 5
}
